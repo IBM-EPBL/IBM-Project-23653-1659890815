{
 "cells": [
  {
   "cell_type": "code",
   "execution_count": 1,
   "source": [
    "import numpy as np\r\n",
    "import tensorflow #open source used for both ML and DL for computation\r\n",
    "from tensorflow.keras.datasets import mnist #mnist dataset\r\n",
    "from tensorflow.keras.models import Sequential #it is a plain stack of layers\r\n",
    "from tensorflow.keras import layers #A Layer consists of a tensor- in tensor-out computat ion funct ion\r\n",
    "from tensorflow.keras.layers import Dense, Flatten #Dense-Dense Layer is the regular deeply connected r\r\n",
    "#faltten -used fot flattening the input or change the dimension\r\n",
    "from tensorflow.keras.layers import Conv2D #onvoLutiona l Layer\r\n",
    "from keras.optimizers import Adam #opt imizer\r\n",
    "from keras. utils import np_utils #used for one-hot encoding\r\n",
    "import matplotlib.pyplot as plt   #used for data visualization"
   ],
   "outputs": [],
   "metadata": {}
  }
 ],
 "metadata": {
  "orig_nbformat": 4,
  "language_info": {
   "name": "python",
   "version": "3.8.8",
   "mimetype": "text/x-python",
   "codemirror_mode": {
    "name": "ipython",
    "version": 3
   },
   "pygments_lexer": "ipython3",
   "nbconvert_exporter": "python",
   "file_extension": ".py"
  },
  "kernelspec": {
   "name": "python3",
   "display_name": "Python 3.8.8 64-bit"
  },
  "interpreter": {
   "hash": "3410afedb74081d81603511028deadddc25ba0f01c14e0cb891e2c2473f81884"
  }
 },
 "nbformat": 4,
 "nbformat_minor": 2
}