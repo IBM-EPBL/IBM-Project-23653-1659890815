{
 "cells": [
  {
   "cell_type": "markdown",
   "id": "d0b3ef60",
   "metadata": {},
   "source": [
    "**Basic Python**"
   ]
  },
  {
   "cell_type": "markdown",
   "id": "ba85c00b",
   "metadata": {},
   "source": [
    "**1.Split this String**"
   ]
  },
  {
   "cell_type": "code",
   "execution_count": 1,
   "id": "9a6d0ff4",
   "metadata": {},
   "outputs": [
    {
     "data": {
      "text/plain": [
       "['Hi', 'there', 'Santhya!']"
      ]
     },
     "execution_count": 1,
     "metadata": {},
     "output_type": "execute_result"
    }
   ],
   "source": [
    "s = \"Hi there Santhya!\"\n",
    "s.split()"
   ]
  },
  {
   "cell_type": "markdown",
   "id": "83720b3d",
   "metadata": {},
   "source": [
    "**2. Use .format() to print the following string**"
   ]
  },
  {
   "cell_type": "markdown",
   "id": "b22ed00e",
   "metadata": {},
   "source": [
    "**Output should be: The diameter of Earth is 12742 kilometers**"
   ]
  },
  {
   "cell_type": "code",
   "execution_count": 2,
   "id": "509ea1f2",
   "metadata": {},
   "outputs": [
    {
     "name": "stdout",
     "output_type": "stream",
     "text": [
      "The diameter of Earth is 12742 kilometers\n"
     ]
    }
   ],
   "source": [
    "planet = \"Earth\"\n",
    "diameter = 12742\n",
    "x=\"The diameter of {} is {} kilometers\"\n",
    "print(x.format(planet,diameter))"
   ]
  },
  {
   "cell_type": "markdown",
   "id": "5d7181b9",
   "metadata": {},
   "source": [
    "**3. In this nest dictionary grab the word \"hello\"**"
   ]
  },
  {
   "cell_type": "code",
   "execution_count": 3,
   "id": "0c11ce6e",
   "metadata": {},
   "outputs": [
    {
     "name": "stdout",
     "output_type": "stream",
     "text": [
      "hello\n"
     ]
    }
   ],
   "source": [
    "d = {'k1':[1,2,3,{'tricky':['oh','man','inception',{'target':[1,2,3,'hello']}]}]}\n",
    "print(d['k1'][3][\"tricky\"][3]['target'][3])"
   ]
  },
  {
   "cell_type": "markdown",
   "id": "44dd55a0",
   "metadata": {},
   "source": [
    "**Numpy**"
   ]
  },
  {
   "cell_type": "code",
   "execution_count": 4,
   "id": "1b58be5a",
   "metadata": {},
   "outputs": [
    {
     "name": "stdout",
     "output_type": "stream",
     "text": [
      "[0. 0. 0. 0. 0. 0. 0. 0. 0. 0.]\n"
     ]
    }
   ],
   "source": [
    "import numpy as np\n",
    "zeros=np.zeros(10)\n",
    "print(zeros)"
   ]
  },
  {
   "cell_type": "markdown",
   "id": "c5a67e35",
   "metadata": {},
   "source": [
    "**4.1 Create an array of 10 zeros?**\n"
   ]
  },
  {
   "cell_type": "markdown",
   "id": "26478cc1",
   "metadata": {},
   "source": [
    "**4.2 Create an array of 10 fives?**\n"
   ]
  },
  {
   "cell_type": "code",
   "execution_count": 6,
   "id": "204e34e5",
   "metadata": {},
   "outputs": [
    {
     "name": "stdout",
     "output_type": "stream",
     "text": [
      "[5. 5. 5. 5. 5. 5. 5. 5. 5. 5.]\n"
     ]
    }
   ],
   "source": [
    "fives=np.ones(10)*5\n",
    "print(fives)"
   ]
  },
  {
   "cell_type": "markdown",
   "id": "925e18a5",
   "metadata": {},
   "source": [
    "**5. Create an array of all the even integers from 20 to 35**\n"
   ]
  },
  {
   "cell_type": "code",
   "execution_count": 7,
   "id": "40243550",
   "metadata": {},
   "outputs": [
    {
     "name": "stdout",
     "output_type": "stream",
     "text": [
      "[20 22 24 26 28 30 32 34]\n"
     ]
    }
   ],
   "source": [
    "array=np.arange(20,36,2)\n",
    "print(array)"
   ]
  },
  {
   "cell_type": "markdown",
   "id": "259bbc79",
   "metadata": {},
   "source": [
    "**6. Create a 3x3 matrix with values ranging from 0 to 8**\n"
   ]
  },
  {
   "cell_type": "code",
   "execution_count": 9,
   "id": "3805bc04",
   "metadata": {},
   "outputs": [
    {
     "name": "stdout",
     "output_type": "stream",
     "text": [
      "[[0 1 2]\n",
      " [3 4 5]\n",
      " [6 7 8]]\n"
     ]
    }
   ],
   "source": [
    "matrix=np.arange(0,9).reshape(3,3)\n",
    "print(matrix)"
   ]
  },
  {
   "cell_type": "markdown",
   "id": "306453fb",
   "metadata": {},
   "source": [
    "**7. Concatenate a and b**\n"
   ]
  },
  {
   "cell_type": "markdown",
   "id": "97f39b41",
   "metadata": {},
   "source": [
    "**a = np.array([1, 2, 3]), b = np.array([4, 5, 6])**\n"
   ]
  },
  {
   "cell_type": "code",
   "execution_count": 10,
   "id": "dcae9147",
   "metadata": {},
   "outputs": [
    {
     "name": "stdout",
     "output_type": "stream",
     "text": [
      "[1 2 3 4 5 6]\n"
     ]
    }
   ],
   "source": [
    "a = np.array([1, 2, 3])\n",
    "b = np.array([4, 5, 6])\n",
    "c = np.concatenate((a,b))\n",
    "print(c)"
   ]
  },
  {
   "cell_type": "markdown",
   "id": "0034a89c",
   "metadata": {},
   "source": [
    "**Pandas**"
   ]
  },
  {
   "cell_type": "markdown",
   "id": "f10f6db8",
   "metadata": {},
   "source": [
    "**8. Create a dataframe with 3 rows and 2 columns**\n"
   ]
  },
  {
   "cell_type": "code",
   "execution_count": 15,
   "id": "6f2e94e0",
   "metadata": {},
   "outputs": [
    {
     "data": {
      "text/html": [
       "<div>\n",
       "<style scoped>\n",
       "    .dataframe tbody tr th:only-of-type {\n",
       "        vertical-align: middle;\n",
       "    }\n",
       "\n",
       "    .dataframe tbody tr th {\n",
       "        vertical-align: top;\n",
       "    }\n",
       "\n",
       "    .dataframe thead th {\n",
       "        text-align: right;\n",
       "    }\n",
       "</style>\n",
       "<table border=\"1\" class=\"dataframe\">\n",
       "  <thead>\n",
       "    <tr style=\"text-align: right;\">\n",
       "      <th></th>\n",
       "      <th>Name</th>\n",
       "      <th>Age</th>\n",
       "    </tr>\n",
       "  </thead>\n",
       "  <tbody>\n",
       "    <tr>\n",
       "      <th>1</th>\n",
       "      <td>santhya</td>\n",
       "      <td>21</td>\n",
       "    </tr>\n",
       "    <tr>\n",
       "      <th>2</th>\n",
       "      <td>esai</td>\n",
       "      <td>19</td>\n",
       "    </tr>\n",
       "    <tr>\n",
       "      <th>3</th>\n",
       "      <td>lavanya</td>\n",
       "      <td>20</td>\n",
       "    </tr>\n",
       "  </tbody>\n",
       "</table>\n",
       "</div>"
      ],
      "text/plain": [
       "      Name  Age\n",
       "1  santhya   21\n",
       "2     esai   19\n",
       "3  lavanya   20"
      ]
     },
     "execution_count": 15,
     "metadata": {},
     "output_type": "execute_result"
    }
   ],
   "source": [
    "import pandas as pd\n",
    "data = {'Name': ['santhya', 'esai', 'lavanya'], 'Age': [21, 19, 20]}\n",
    "df=pd.DataFrame(data,index=[1,2,3])\n",
    "df"
   ]
  },
  {
   "cell_type": "markdown",
   "id": "5d8c546d",
   "metadata": {},
   "source": [
    "**9. Generate the series of dates from 1st Jan, 2023 to 10th Feb, 2023**\n"
   ]
  },
  {
   "cell_type": "code",
   "execution_count": 16,
   "id": "b2db11a3",
   "metadata": {},
   "outputs": [
    {
     "name": "stdout",
     "output_type": "stream",
     "text": [
      "2023-01-01 00:00:00\n",
      "2023-01-02 00:00:00\n",
      "2023-01-03 00:00:00\n",
      "2023-01-04 00:00:00\n",
      "2023-01-05 00:00:00\n",
      "2023-01-06 00:00:00\n",
      "2023-01-07 00:00:00\n",
      "2023-01-08 00:00:00\n",
      "2023-01-09 00:00:00\n",
      "2023-01-10 00:00:00\n",
      "2023-01-11 00:00:00\n",
      "2023-01-12 00:00:00\n",
      "2023-01-13 00:00:00\n",
      "2023-01-14 00:00:00\n",
      "2023-01-15 00:00:00\n",
      "2023-01-16 00:00:00\n",
      "2023-01-17 00:00:00\n",
      "2023-01-18 00:00:00\n",
      "2023-01-19 00:00:00\n",
      "2023-01-20 00:00:00\n",
      "2023-01-21 00:00:00\n",
      "2023-01-22 00:00:00\n",
      "2023-01-23 00:00:00\n",
      "2023-01-24 00:00:00\n",
      "2023-01-25 00:00:00\n",
      "2023-01-26 00:00:00\n",
      "2023-01-27 00:00:00\n",
      "2023-01-28 00:00:00\n",
      "2023-01-29 00:00:00\n",
      "2023-01-30 00:00:00\n",
      "2023-01-31 00:00:00\n",
      "2023-02-01 00:00:00\n",
      "2023-02-02 00:00:00\n",
      "2023-02-03 00:00:00\n",
      "2023-02-04 00:00:00\n",
      "2023-02-05 00:00:00\n",
      "2023-02-06 00:00:00\n",
      "2023-02-07 00:00:00\n",
      "2023-02-08 00:00:00\n",
      "2023-02-09 00:00:00\n",
      "2023-02-10 00:00:00\n"
     ]
    }
   ],
   "source": [
    "period = pd.date_range(start ='01-01-2023', end ='02-10-2023')\n",
    "for val in period:\n",
    "    print(val)"
   ]
  },
  {
   "cell_type": "markdown",
   "id": "1586bc14",
   "metadata": {},
   "source": [
    "**10. Create 2D list to DataFrame**\n"
   ]
  },
  {
   "cell_type": "markdown",
   "id": "6fb56d49",
   "metadata": {},
   "source": [
    "**lists = [[1, 'aaa', 22], [2, 'bbb', 25], [3, 'ccc', 24]]**\n",
    "\n"
   ]
  },
  {
   "cell_type": "code",
   "execution_count": 17,
   "id": "1b96d2e5",
   "metadata": {},
   "outputs": [
    {
     "name": "stdout",
     "output_type": "stream",
     "text": [
      "   1-digits letters  2-digits\n",
      "0         1     aaa        22\n",
      "1         2     bbb        25\n",
      "2         3     ccc        24\n"
     ]
    }
   ],
   "source": [
    "lists = [[1, 'aaa', 22], [2, 'bbb', 25], [3, 'ccc', 24]]\n",
    "df = pd.DataFrame(lists, columns =['1-digits', 'letters','2-digits']) \n",
    "print(df)\n",
    " "
   ]
  },
  {
   "cell_type": "code",
   "execution_count": null,
   "id": "6c0d40be",
   "metadata": {},
   "outputs": [],
   "source": []
  }
 ],
 "metadata": {
  "kernelspec": {
   "display_name": "Python 3.10.2 64-bit",
   "language": "python",
   "name": "python3"
  },
  "language_info": {
   "codemirror_mode": {
    "name": "ipython",
    "version": 3
   },
   "file_extension": ".py",
   "mimetype": "text/x-python",
   "name": "python",
   "nbconvert_exporter": "python",
   "pygments_lexer": "ipython3",
   "version": "3.10.2"
  },
  "vscode": {
   "interpreter": {
    "hash": "569ba290e568a67ed43cf9ce599d761f72daedecfc706f18b8b7ed9b90d03ff7"
   }
  }
 },
 "nbformat": 4,
 "nbformat_minor": 5
}
